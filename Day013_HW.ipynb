{
 "cells": [
  {
   "cell_type": "markdown",
   "metadata": {},
   "source": [
    "# PTT 網路爬蟲實作練習\n",
    "\n",
    "\n",
    "* 能夠利用 Request + BeatifulSour 撰寫爬蟲，並存放到合適的資料結構\n"
   ]
  },
  {
   "cell_type": "markdown",
   "metadata": {},
   "source": [
    "## 作業目標\n",
    "\n",
    "根據範例 ，完成以下問題：\n",
    "\n",
    "* ① 印出最新文章的「作者」「標題」「時間」\n",
    "* ② 印出第一頁所有文章的「作者」「標題」「時間」\n"
   ]
  },
  {
   "cell_type": "markdown",
   "metadata": {},
   "source": [
    "### ① 印出最新文章的「作者」「標題」「時間」"
   ]
  },
  {
   "cell_type": "code",
   "execution_count": 1,
   "metadata": {},
   "outputs": [
    {
     "name": "stdout",
     "output_type": "stream",
     "text": [
      "作者: fact (fact)\n",
      "標題: [花邊] 哈登：在火箭得40分才有機會贏 現在沒壓\n",
      "時間: Sun Feb 14 16:56:07 2021\n",
      "作者: asdf1256 (guest)\n",
      "標題: [新聞] 美媒：勇士應用榜眼加首輪來換Beal\n",
      "時間: Sun Feb 14 17:35:12 2021\n",
      "作者: sezna (sezna)\n",
      "標題: [情報] 吹楊：很多球隊對我們有著針對性戰術而\n",
      "時間: Sun Feb 14 20:35:19 2021\n",
      "作者: laptic (靜夜聖林彼岸花)\n",
      "標題: [情報] SEASON Schedule 賽程 February 20–21\n",
      "時間: Fri Jan 29 20:30:58 2021\n"
     ]
    }
   ],
   "source": [
    "import requests\n",
    "from bs4 import BeautifulSoup\n",
    "\n",
    "url = 'https://www.ptt.cc/bbs/NBA/index.html'\n",
    "r = requests.get(url)\n",
    "\n",
    "soup = BeautifulSoup(r.text, \"html5lib\")\n",
    "\n",
    "for d in soup.find_all(class_=\"title\"):\n",
    "    try:\n",
    "        r = BeautifulSoup(requests.get('https://www.ptt.cc'+d.find('a')['href']).text, \"html5lib\")\n",
    "        rInfo = r.find_all(class_='article-meta-value')\n",
    "        print('作者: ' + rInfo[0].text)\n",
    "        print('標題: ' + rInfo[2].text)\n",
    "        print('時間: ' + rInfo[3].text)\n",
    "    except:\n",
    "        continue"
   ]
  },
  {
   "cell_type": "markdown",
   "metadata": {},
   "source": [
    "### ② 印出第一頁所有文章的「作者」「標題」「時間」"
   ]
  },
  {
   "cell_type": "code",
   "execution_count": 2,
   "metadata": {},
   "outputs": [
    {
     "name": "stdout",
     "output_type": "stream",
     "text": [
      "作者: Price (Price)\n",
      "標題: [轉錄]Lyotard 對於太陽板討論串的結論\n",
      "時間: Sun May 16 01:54:33 2004\n",
      "作者: Price (Price)\n",
      "標題: [公告] 請停止一切關於本次活動的發言\n",
      "時間: Mon May 24 00:43:00 2004\n",
      "作者: Frankaze (神采風華)\n",
      "標題: [轉錄]跟之前那篇比起來 我覺得這篇也應該轉過來\n",
      "時間: Tue Jun  8 01:16:45 2004\n",
      "作者: Frankaze (神采風華)\n",
      "標題: [轉錄]再轉一篇好文來\n",
      "時間: Tue Jun  8 09:02:23 2004\n",
      "作者: Price (Price)\n",
      "標題: [轉錄][情報] 夏洛特山貓系列\n",
      "時間: Thu Jun 10 00:39:35 2004\n",
      "作者: Price (Price)\n",
      "標題: [轉錄]Re: [心得] 真是受不了糗爺....\n",
      "時間: Thu Jun 10 00:51:35 2004\n",
      "作者: Price (Price)\n",
      "標題: [轉錄]總冠軍賽NO.2觀後感\n",
      "時間: Thu Jun 10 12:05:07 2004\n",
      "作者: AmuroNamie (原來太嗨真的會失眠^___^)\n",
      "標題: [心得] Rasheed Wallace\n",
      "時間: Fri Jun 11 15:06:09 2004\n",
      "作者: toptree (  )\n",
      "標題: 掌控球賽的男人\n",
      "時間: Sat Jun 12 07:13:04 2004\n",
      "作者: skchang (3EB板開板囉！)\n",
      "標題: [閒聊] 說說2004季後賽名場面回顧\n",
      "時間: Sat Jun 12 13:21:49 2004\n",
      "作者: shineup ()\n",
      "標題: [心得] 其實說穿了 就是活塞的防守太可怕了\n",
      "時間: Sat Jun 12 13:12:47 2004\n",
      "作者: cOvi (喵~)\n",
      "標題: Re: [閒聊] 說說2004季後賽名場面回顧\n",
      "時間: Sat Jun 12 16:43:07 2004\n",
      "作者: ykshih (￼N￼Ns)\n",
      "標題: Re: [閒聊] 說說2004季後賽名場面回顧\n",
      "時間: Sat Jun 12 17:26:37 2004\n",
      "作者: Frankaze (神采風華)\n",
      "標題: Re: [閒聊] 說說2004季後賽名場面回顧\n",
      "時間: Sat Jun 12 18:34:46 2004\n",
      "作者: Price (Price)\n",
      "標題: [轉錄]Re: 總冠軍賽NO.3觀後感\n",
      "時間: Mon Jun 14 02:18:52 2004\n",
      "作者: Frankaze (神采風華)\n",
      "標題: [轉錄]Re: 總冠軍賽NO.3觀後感\n",
      "時間: Mon Jun 14 02:34:33 2004\n",
      "作者: star1 (第一次魔術表演不算成功)\n",
      "標題: Re: [轉錄]Re: 總冠軍賽NO.3觀後感\n",
      "時間: Mon Jun 14 07:16:30 2004\n",
      "作者: coldspring (笑笑)\n",
      "標題: Re: [轉錄]Re: 總冠軍賽NO.3觀後感\n",
      "時間: Mon Jun 14 09:24:57 2004\n",
      "作者: airbear (地圖)\n",
      "標題: Re: Kobe is frustrated...\n",
      "時間: Mon Jun 14 12:56:14 2004\n",
      "作者: pennykidd (andre)\n",
      "標題: Re: [轉錄]Re: 總冠軍賽NO.3觀後感\n",
      "時間: Mon Jun 14 22:07:01 2004\n"
     ]
    }
   ],
   "source": [
    "url = 'https://www.ptt.cc/bbs/NBA/index1.html'\n",
    "r = requests.get(url)\n",
    "\n",
    "soup = BeautifulSoup(r.text, \"html5lib\")\n",
    "\n",
    "for d in soup.find_all(class_=\"title\"):\n",
    "    try:\n",
    "        r = BeautifulSoup(requests.get('https://www.ptt.cc'+d.find('a')['href']).text, \"html5lib\")\n",
    "        rInfo = r.find_all(class_='article-meta-value')\n",
    "        print('作者: ' + rInfo[0].text)\n",
    "        print('標題: ' + rInfo[2].text)\n",
    "        print('時間: ' + rInfo[3].text)\n",
    "    except:\n",
    "        continue"
   ]
  },
  {
   "cell_type": "markdown",
   "metadata": {},
   "source": [
    "### ③ 試著爬爬看其他版的文章"
   ]
  },
  {
   "cell_type": "code",
   "execution_count": 3,
   "metadata": {},
   "outputs": [
    {
     "name": "stdout",
     "output_type": "stream",
     "text": [
      "作者: bill840207 (洢小庭)\n",
      "標題: [食記] 頂呱呱新品牌「雞翅食研所」蒜味醬油\n",
      "時間: Sat Feb  6 19:47:29 2021\n",
      "作者: mamaomik (呵呵之氣拔山倒樹而來)\n",
      "標題: [抱怨] 肯德基ABC自由選cp值是不是越來越低\n",
      "時間: Sun Feb  7 13:50:57 2021\n",
      "作者: amenamen (張)\n",
      "標題: [討論] 麥當勞換木湯匙\n",
      "時間: Sun Feb  7 23:28:45 2021\n",
      "作者: sukimq ( 蘇琪)\n",
      "標題: [抱怨] 鬆餅的乳酪球不能單買了\n",
      "時間: Mon Feb  8 07:24:38 2021\n",
      "作者: greenseason (綠海兒)\n",
      "標題: [討論] 麥當勞得來速員工也太一心多用了吧\n",
      "時間: Mon Feb  8 11:10:03 2021\n",
      "作者: fcz973 (吼~~~)\n",
      "標題: [食記] 吉豚屋 1公斤日式唐揚炸雞\n",
      "時間: Mon Feb  8 23:16:22 2021\n",
      "作者: Nevhir (在水一方)\n",
      "標題: [問題] 關於繼光香香雞的客訴\n",
      "時間: Tue Feb  9 17:42:39 2021\n",
      "作者: SethSpeak (靈魂永生)\n",
      "標題: [討論] 店員用你的手機填寫餐廳滿意度調查\n",
      "時間: Wed Feb 10 06:49:59 2021\n",
      "作者: nsr150xx ([email protected])\n",
      "標題: [問題] 肯德基炸雞如何購買最優惠?推薦ok送p幣\n",
      "時間: Wed Feb 10 10:19:16 2021\n",
      "作者: wwe855176 (QinKong)\n",
      "標題: [問卷](100P)速食店內採可重複性餐具意圖研究\n",
      "時間: Wed Feb 10 11:20:38 2021\n",
      "作者: lianpig5566 (家庭教師殺手里包恩)\n",
      "標題: [新聞] 麥當勞雞塊「裝熟」！　6塊有2塊「幾乎是\n",
      "時間: Thu Feb 11 18:41:35 2021\n",
      "作者: joyca (joyca)\n",
      "標題: Re: [討論] 麥當勞得來速員工也太一心多用了吧\n",
      "時間: Fri Feb 12 11:30:46 2021\n",
      "作者: albee923 (albee)\n",
      "標題: [問題] 摩斯黃金地瓜薯\n",
      "時間: Sat Feb 13 19:47:33 2021\n",
      "作者: dodolook1 (可口可樂)\n",
      "標題: [食記] 肯德基 雙濃金沙起司雞\n",
      "時間: Sat Feb 13 23:43:06 2021\n",
      "作者: n6335097 (ㄐㄈ)\n",
      "標題: [公告] 即日起禁止徵求虛寶序號之文章\n",
      "時間: Sat Apr 18 17:25:17 2020\n"
     ]
    }
   ],
   "source": [
    "url = 'https://www.ptt.cc/bbs/fastfood/index.html'\n",
    "r = requests.get(url)\n",
    "\n",
    "soup = BeautifulSoup(r.text, \"html5lib\")\n",
    "\n",
    "for d in soup.find_all(class_=\"title\"):\n",
    "    try:\n",
    "        r = BeautifulSoup(requests.get('https://www.ptt.cc'+d.find('a')['href']).text, \"html5lib\")\n",
    "        rInfo = r.find_all(class_='article-meta-value')\n",
    "        print('作者: ' + rInfo[0].text)\n",
    "        print('標題: ' + rInfo[2].text)\n",
    "        print('時間: ' + rInfo[3].text)\n",
    "    except:\n",
    "        continue"
   ]
  }
 ],
 "metadata": {
  "kernelspec": {
   "display_name": "Python 3",
   "language": "python",
   "name": "python3"
  },
  "language_info": {
   "codemirror_mode": {
    "name": "ipython",
    "version": 3
   },
   "file_extension": ".py",
   "mimetype": "text/x-python",
   "name": "python",
   "nbconvert_exporter": "python",
   "pygments_lexer": "ipython3",
   "version": "3.7.9"
  }
 },
 "nbformat": 4,
 "nbformat_minor": 2
}
