{
 "cells": [
  {
   "cell_type": "markdown",
   "metadata": {},
   "source": [
    "# 靜態網頁的資料爬蟲策略\n",
    "\n",
    "\n",
    "* 了解靜態網頁的資料爬蟲策略\n",
    "* 認識適用於靜態網頁爬蟲的相關套件工具：Request\n",
    "* 認識適用於靜態網頁爬蟲的相關套件工具：BeatifulSoup"
   ]
  },
  {
   "cell_type": "markdown",
   "metadata": {},
   "source": [
    "## 作業目標\n",
    "\n",
    "利用 Request + BeatifulSoup 爬取下列兩個網站內容並解析： \n",
    "\n",
    "1. 滬江英語網址： https://www.hjenglish.com/new/p1315879/\n",
    "2. 知乎： https://www.zhihu.com/question/36435092\n",
    "\n",
    "並且回答下面問題：\n",
    "\n",
    "1. Request 取回之後該怎麼取出資料，資料型態是什麼？\n",
    "2. 為什麼要使用 BeatifulSoup 處理？處理後的型態是什麼？\n",
    "3. 觀察一下知乎回來的資料好像有點怪怪的，該怎麼解決？"
   ]
  },
  {
   "cell_type": "markdown",
   "metadata": {},
   "source": [
    "### 1. 滬江英語網址： https://www.hjenglish.com/new/p1315879/"
   ]
  },
  {
   "cell_type": "code",
   "execution_count": 1,
   "metadata": {},
   "outputs": [],
   "source": [
    "import requests\n",
    "from bs4 import BeautifulSoup"
   ]
  },
  {
   "cell_type": "code",
   "execution_count": 2,
   "metadata": {},
   "outputs": [
    {
     "name": "stdout",
     "output_type": "stream",
     "text": [
      "<!DOCTYPE html>\n",
      "<html>\n",
      "    <head>\n",
      "        <meta charset=\"utf-8\">\n",
      "        <meta http-equiv=\"X-Ua-Compatible\" content=\"IE=edge\" />\n",
      "        <meta name=\"renderer\" content=\"webkit\">\n",
      "        <!--[if lt IE 9]>\n",
      "            <script type=\"text/javascript\">window.location.href = '//www.hujiang.com/browserupgrade';</script>\n",
      "        <![endif]-->\n",
      "        <link rel=\"stylesheet\" href=\"//res.hjfile.cn/lib/hui/footer/0.5.2/footer.css\">\n",
      "        \n",
      "        \n",
      "<meta name=\"Keywords\" content=\"世界上竟然有“外星人绑架险”？,沪江英语学习网\">\n",
      "<meta name=\"Description\" content=\"沪江英语网是免费的英语学习网站，提供世界上竟然有“外星人绑架险”？信息，包含世界上竟然有“外星人绑架险”？的相关学习资料、单词测试、评论、学习推荐等信息。\">\n",
      "<title>世界上竟然有“外星人绑架险”？_沪江英语学习网</title>\n",
      "\n",
      "<link rel=\"stylesheet\" href=\"//res.hjfile.cn/pt/en/app/release/articleDetail.5844066a.css\">\n",
      "\n",
      "\n",
      "    </head>\n",
      "\n",
      "    <body><link href=\"//res.hjfile.cn/class/header/header.last.css?v=448119\" rel=\"stylesheet\" type=\"text/css\" />\n",
      "\n",
      "<div class=\"hjc-header\">\n",
      "    <div class=\"hjc-hd-container\">\n",
      "        <div class=\"head-container\">\n",
      "            <div class=\"hjc-hd-left\">\n",
      "                <ul class=\"head-ul\">\n",
      "                    <li class=\"hu-li\">\n",
      "                        <a target=\"_blank\" href=\"//class.hujiang.com/?ch_source=10018032&utr=10018032,38420,788265,27216\">\n",
      "                            <span>沪江网校</span>\n",
      "                        </a>\n",
      "                    </li>\n",
      "                    <li class=\"hu-li\">\n",
      "                        <a target=\"_blank\" href=\"http://www.hujia.org/?ch_source=10018032&utr=10018032,38420,788265,27216\" rel=\"nofollow\">\n",
      "                            <span>互+公益</span>\n",
      "                        </a>\n",
      "                    </li>\n",
      "                    <li class=\"hu-li needborder\">\n",
      "                        <a href=\"javascript:;\">\n",
      "                            <span>学习资讯</span>\n",
      "                            <span class=\"h-icon\"></span>\n",
      "                        </a>\n",
      "                        <div class=\"learn-info\">\n",
      "                            <div class=\"learn-content\">\n",
      "                                <div class=\"home-con\">\n",
      "                                    <div class=\"hc-ul\">\n",
      "                                        <div class=\"hc-li\">\n",
      "                                            <a target=\"_blank\" href=\"//www.hjenglish.com/?ch_source=10018032&utr=10018032,38420,788265,27216\">\n",
      "                                                <p class=\"site-pic site-pic-en\"></p>\n",
      "                                                <span>沪江英语</span>\n",
      "                                            </a>\n",
      "                                        </div>\n",
      "                                        <div class=\"hc-li\">\n",
      "                                            <a target=\"_blank\" href=\"//jp.hjenglish.com/?ch_source=10018032&utr=10018032,38420,788265,27216\">\n",
      "                                                <p class=\"site-pic site-pic-jp\"></p>\n",
      "                                                <span>沪江日语</span>\n",
      "                                            </a>\n",
      "                                        </div>\n",
      "                                        <div class=\"hc-li\">\n",
      "         \n"
     ]
    }
   ],
   "source": [
    "url = 'https://www.hjenglish.com/new/p1315879/'\n",
    "\n",
    "headers ={\n",
    "    'user-agent': 'Mozilla/5.0 (Windows NT 6.1; WOW64) AppleWebKit/537.36 (KHTML, like Gecko) Chrome/58.0.3029.81 Safari/537.36'\n",
    "}\n",
    "\n",
    "r = requests.get(url, headers=headers)\n",
    "\n",
    "r.encoding = 'utf-8'\n",
    "print(r.text[0:3000])"
   ]
  },
  {
   "cell_type": "code",
   "execution_count": 3,
   "metadata": {},
   "outputs": [
    {
     "name": "stdout",
     "output_type": "stream",
     "text": [
      "soup type <class 'bs4.BeautifulSoup'>\n"
     ]
    }
   ],
   "source": [
    "#print('為什麼要使用 BeatifulSoup 處理？處理後的型態是什麼？ => ')\n",
    "soup = BeautifulSoup(r.text, \"lxml\")\n",
    "print('soup type',type(soup))"
   ]
  },
  {
   "cell_type": "code",
   "execution_count": 4,
   "metadata": {},
   "outputs": [
    {
     "name": "stdout",
     "output_type": "stream",
     "text": [
      "世界上竟然有“外星人绑架险”？,沪江英语学习网\n"
     ]
    }
   ],
   "source": [
    "title = soup.find(\"meta\", {\"name\":\"Keywords\"}).attrs['content']\n",
    "print(title)"
   ]
  },
  {
   "cell_type": "code",
   "execution_count": 5,
   "metadata": {},
   "outputs": [
    {
     "name": "stdout",
     "output_type": "stream",
     "text": [
      "\n",
      "\n",
      "你有没有想过，你可能会被来到地球的外星人绑架（abduction）？如果你为此所困扰，那就买份“外星人绑架险”吧。\n",
      "美国佛罗里达州有一家保险公司于2019年推出了“外星人绑架险”。这一保险旨在保护人类免受外星人绑架后遭受的伤害（trauma），这种伤害既可能来自于看到外星人后你受到的惊吓，还可能来源于你在绑架中遭受的各种痛苦（grief）。\n",
      "人们只要一次性向公司支付24.95美元，即可终生享受该保障。该保险将在你被外星人绑架后赔付你1000万美元保费，但会以每年1美元的分期付款（installment）方式支付。\n",
      "目前有接近20000人购买了此保险。不过，这些人有没有想过这个问题：为了得到保险赔付，被绑架后，如何让外星人把你送回地球呢？\n",
      " \n",
      "你现在了解了吗？\n",
      " \n",
      "\n",
      "\n",
      "\n",
      "今日推荐\n",
      " \n",
      "\n",
      "abduction[æbˈdʌkʃn] n. 绑架\n",
      "trauma [ˈtrɔːmə] n. 创伤\n",
      "\n",
      "\n",
      "grief [ɡriːf] n.  痛苦；不幸\n",
      "installment [ɪn'stɔ:lmənt] n. 分期付款\n",
      " \n",
      "\n",
      "\n",
      "\n",
      "\n",
      "\n",
      "\n",
      "相关热点：\n",
      " CATTI资讯汇总\n",
      " 缺乏英文怎么说\n",
      "\n",
      "\n",
      "\n",
      "\n"
     ]
    }
   ],
   "source": [
    "Description = soup.find('div',{'class':'article-main'}).text\n",
    "print(Description)"
   ]
  },
  {
   "cell_type": "markdown",
   "metadata": {},
   "source": [
    "### 2. 知乎： https://www.zhihu.com/question/36435092"
   ]
  },
  {
   "cell_type": "code",
   "execution_count": 6,
   "metadata": {},
   "outputs": [
    {
     "name": "stdout",
     "output_type": "stream",
     "text": [
      "<html>\r\n",
      "<head><title>403 Forbidden</title></head>\r\n",
      "<body bgcolor=\"white\">\r\n",
      "<center><h1>403 Forbidden</h1></center>\r\n",
      "<hr><center>openresty</center>\r\n",
      "</body>\r\n",
      "</html>\r\n",
      "\n"
     ]
    }
   ],
   "source": [
    "url = 'https://www.zhihu.com/question/36435092'\n",
    "r = requests.get(url)\n",
    "r.encoding = 'utf-8'\n",
    "\n",
    "print(r.text[0:600])"
   ]
  },
  {
   "cell_type": "markdown",
   "metadata": {},
   "source": [
    "### 3. 觀察一下知乎回來的資料好像有點怪怪的，該怎麼解決？"
   ]
  },
  {
   "cell_type": "code",
   "execution_count": 7,
   "metadata": {},
   "outputs": [
    {
     "name": "stdout",
     "output_type": "stream",
     "text": [
      "<!doctype html>\n",
      "<html lang=\"zh\" data-hairline=\"true\" data-theme=\"light\"><head><meta charSet=\"utf-8\"/><title data-react-helmet=\"true\">猫可以萌到什么程度？ - 知乎</title><meta name=\"viewport\" content=\"width=device-width,initial-scale=1,maximum-scale=1\"/><meta name=\"renderer\" content=\"webkit\"/><meta name=\"force-rendering\" content=\"webkit\"/><meta http-equiv=\"X-UA-Compatible\" content=\"IE=edge,chrome=1\"/><meta name=\"google-site-verification\" content=\"FTeR0c8arOPKh8c5DYh_9uu98_zJbaWw53J-Sch9MTg\"/><meta data-react-helmet=\"true\" name=\"description\" property=\"og:description\" content=\"本问题下优质视频已经被收录到视频专题「猫咪博物馆」，更多相关问题\n"
     ]
    }
   ],
   "source": [
    "#url = 'https://www.zhihu.com/explore'\n",
    "url = 'https://www.zhihu.com/question/36435092'\n",
    "\n",
    "headers = {'user-agent': 'my-app/0.0.1'}\n",
    "\n",
    "r = requests.get(url, headers=headers)\n",
    "\n",
    "r.encoding = 'utf-8'\n",
    "print(r.text[0:600])"
   ]
  },
  {
   "cell_type": "code",
   "execution_count": 8,
   "metadata": {},
   "outputs": [
    {
     "name": "stdout",
     "output_type": "stream",
     "text": [
      "猫可以萌到什么程度？ - 知乎\n"
     ]
    }
   ],
   "source": [
    "soup = BeautifulSoup(r.text, \"lxml\")\n",
    "print(soup.title.text)"
   ]
  },
  {
   "cell_type": "code",
   "execution_count": 9,
   "metadata": {},
   "outputs": [],
   "source": [
    "content = soup.find_all('p')"
   ]
  },
  {
   "cell_type": "code",
   "execution_count": 10,
   "metadata": {},
   "outputs": [
    {
     "name": "stdout",
     "output_type": "stream",
     "text": [
      "即使是睡觉也能看一整天\n",
      "（づ￣3￣）づ╭❤～\n",
      "\n",
      "今年的国际猫咪节，外网都在各种刷猫吸猫\n",
      "在一片“猫海”中，Imugr一个网友发的一只猫，也是把很多人的心都俘获了\n",
      "这是一只黑足猫，是地球上最小型的野生猫科动物之一\n",
      "黑足猫平均重只有1.6公斤，个头真的挺小\n",
      "之所以会叫黑足猫，是因为它们的脚底肉垫是黑色的\n",
      "相对于它们的身体来说，它们的头部其实算比较大\n",
      "野生的黑足猫主要栖息在南非干旱的半沙漠及大草原，是独居的夜行动物\n",
      "通常，黑足猫是很害羞的动物，会尽量躲藏\n",
      "小小的体格让它们看上去敲萌敲可爱\n",
      "\n",
      "\n",
      "然而....这群小家伙的战斗力根本一点不弱...\n",
      "别看它们个头不大，它们凶猛起来能攻击比它们体型大四倍的小羊\n",
      "一旦被围困或是被逼至绝境，它们更是会非常凶狠地反击自卫\n",
      "\n",
      "\n",
      "甚至还有传说说黑足猫能干掉一只长颈鹿.....能用它们的利牙刺穿长颈鹿的静脉....（这脑洞开得也是有点大了）\n",
      "非洲一些地方的居民都相信这种传说....然而这种说法木有得到证实....应该是为了凸显黑足猫不容小觑的战斗力来夸张的~\n",
      "\n",
      "黑足猫虽然体型小，但它们吃的可多了，一个晚上能吃掉相当于它们体重五分之一的食物（还吃不胖）\n",
      "由于沙漠地带的食物比较少，所以野生黑足猫就得在夜间跋涉十多公里觅食，所以它们需要非常高的能量来生活\n",
      "鼠类、小的鸟类、昆虫等都是它们的猎物\n",
      "\n",
      "黑足猫在2011年的时候被列入了“易危动物”，一些动物机构都开始进行着长期稳定的繁殖保育行动\n",
      "这么可爱的动物，一定要好好保护呀~\n",
      "\n",
      "source：\n",
      "https://en.wikipedia.org/wiki/Black-footed_cat\n",
      "https://bigcatrescue.org/black-footed-cat-facts/\n",
      "http://www.iltaw.com/animal/475\n"
     ]
    }
   ],
   "source": [
    "for c in content:\n",
    "    print(c.text)"
   ]
  },
  {
   "cell_type": "code",
   "execution_count": null,
   "metadata": {},
   "outputs": [],
   "source": []
  }
 ],
 "metadata": {
  "kernelspec": {
   "display_name": "Python 3",
   "language": "python",
   "name": "python3"
  },
  "language_info": {
   "codemirror_mode": {
    "name": "ipython",
    "version": 3
   },
   "file_extension": ".py",
   "mimetype": "text/x-python",
   "name": "python",
   "nbconvert_exporter": "python",
   "pygments_lexer": "ipython3",
   "version": "3.7.9"
  }
 },
 "nbformat": 4,
 "nbformat_minor": 2
}
