{
 "cells": [
  {
   "cell_type": "markdown",
   "metadata": {},
   "source": [
    "# 其他工具：Grab、PyQuery\n",
    "\n",
    "\n",
    "* 利用 Grab 套件的存取 HTML 資源\n",
    "* 利用 PyQuery 套件的解析 HTML 格式\n"
   ]
  },
  {
   "cell_type": "markdown",
   "metadata": {},
   "source": [
    "## 作業目標\n",
    "\n",
    "將之前用 requests + beatifulsoup 實作的方式，改寫成 grab + pyquery，並且比較有哪些地方不同。\n",
    "\n",
    "\n",
    "\n"
   ]
  },
  {
   "cell_type": "markdown",
   "metadata": {},
   "source": [
    "## requests + BeautifulSoup\n"
   ]
  },
  {
   "cell_type": "code",
   "execution_count": 1,
   "metadata": {},
   "outputs": [],
   "source": [
    "import requests\n",
    "url = 'https://www.zhihu.com/question/36435092'\n",
    "headers = {'user-agent': 'my-app/0.0.1'}\n",
    "r = requests.get(url, headers=headers)\n",
    "r.encoding = 'utf-8'"
   ]
  },
  {
   "cell_type": "code",
   "execution_count": 2,
   "metadata": {},
   "outputs": [
    {
     "name": "stdout",
     "output_type": "stream",
     "text": [
      "猫可以萌到什么程度？ - 知乎\n"
     ]
    }
   ],
   "source": [
    "from bs4 import BeautifulSoup\n",
    "\n",
    "soup = BeautifulSoup(r.text, \"lxml\")\n",
    "print(soup.title.text)"
   ]
  },
  {
   "cell_type": "code",
   "execution_count": 3,
   "metadata": {},
   "outputs": [
    {
     "name": "stdout",
     "output_type": "stream",
     "text": [
      "即使是睡觉也能看一整天\n",
      "（づ￣3￣）づ╭❤～\n",
      "\n",
      "今年的国际猫咪节，外网都在各种刷猫吸猫\n",
      "在一片“猫海”中，Imugr一个网友发的一只猫，也是把很多人的心都俘获了\n",
      "这是一只黑足猫，是地球上最小型的野生猫科动物之一\n",
      "黑足猫平均重只有1.6公斤，个头真的挺小\n",
      "之所以会叫黑足猫，是因为它们的脚底肉垫是黑色的\n",
      "相对于它们的身体来说，它们的头部其实算比较大\n",
      "野生的黑足猫主要栖息在南非干旱的半沙漠及大草原，是独居的夜行动物\n",
      "通常，黑足猫是很害羞的动物，会尽量躲藏\n",
      "小小的体格让它们看上去敲萌敲可爱\n",
      "\n",
      "\n",
      "然而....这群小家伙的战斗力根本一点不弱...\n",
      "别看它们个头不大，它们凶猛起来能攻击比它们体型大四倍的小羊\n",
      "一旦被围困或是被逼至绝境，它们更是会非常凶狠地反击自卫\n",
      "\n",
      "\n",
      "甚至还有传说说黑足猫能干掉一只长颈鹿.....能用它们的利牙刺穿长颈鹿的静脉....（这脑洞开得也是有点大了）\n",
      "非洲一些地方的居民都相信这种传说....然而这种说法木有得到证实....应该是为了凸显黑足猫不容小觑的战斗力来夸张的~\n",
      "\n",
      "黑足猫虽然体型小，但它们吃的可多了，一个晚上能吃掉相当于它们体重五分之一的食物（还吃不胖）\n",
      "由于沙漠地带的食物比较少，所以野生黑足猫就得在夜间跋涉十多公里觅食，所以它们需要非常高的能量来生活\n",
      "鼠类、小的鸟类、昆虫等都是它们的猎物\n",
      "\n",
      "黑足猫在2011年的时候被列入了“易危动物”，一些动物机构都开始进行着长期稳定的繁殖保育行动\n",
      "这么可爱的动物，一定要好好保护呀~\n",
      "\n",
      "source：\n",
      "https://en.wikipedia.org/wiki/Black-footed_cat\n",
      "https://bigcatrescue.org/black-footed-cat-facts/\n",
      "http://www.iltaw.com/animal/475\n"
     ]
    }
   ],
   "source": [
    "content = soup.find_all('p')\n",
    "\n",
    "for c in content:\n",
    "    print(c.text)"
   ]
  },
  {
   "cell_type": "markdown",
   "metadata": {},
   "source": [
    "## Grab + PyQuery"
   ]
  },
  {
   "cell_type": "code",
   "execution_count": 4,
   "metadata": {
    "scrolled": false
   },
   "outputs": [
    {
     "data": {
      "text/plain": [
       "b'<!doctype html>\\n<html lang=\"zh\" data-hairline=\"true\" data-theme=\"light\"><head><meta charSet=\"utf-8\"/><title data-react-helmet=\"true\">\\xe7\\x8c\\xab\\xe5\\x8f\\xaf\\xe4\\xbb\\xa5\\xe8\\x90\\x8c\\xe5\\x88\\xb0\\xe4\\xbb\\x80\\xe4\\xb9\\x88\\xe7\\xa8\\x8b\\xe5\\xba\\xa6\\xef\\xbc\\x9f - \\xe7\\x9f\\xa5\\xe4\\xb9\\x8e</title><meta name=\"viewport\" content=\"width=device-width,initial-scale=1,maximum-scale=1\"/><meta name=\"renderer\" content=\"webkit\"/><meta name=\"force-rendering\" content=\"webkit\"/><meta http-equiv=\"X-UA-Compatible\" content=\"IE=edge,chrome=1\"/><meta name=\"google-site-verification\" content=\"FTeR0c8arOPKh8c5DYh_9uu98_zJbaWw53J-Sch9MTg\"/><meta data-react-helmet=\"true\" name=\"description\" property=\"og:description\" content=\"\\xe6\\x9c\\xac\\xe9\\x97\\xae\\xe9\\xa2\\x98\\xe4\\xb8\\x8b\\xe4\\xbc\\x98\\xe8\\xb4\\xa8\\xe8\\xa7\\x86\\xe9\\xa2\\x91\\xe5\\xb7\\xb2\\xe7\\xbb\\x8f\\xe8\\xa2\\xab\\xe6\\x94\\xb6\\xe5\\xbd\\x95\\xe5\\x88\\xb0\\xe8\\xa7\\x86\\xe9\\xa2\\x91\\xe4\\xb8\\x93\\xe9\\xa2\\x98\\xe3\\x80\\x8c\\xe7\\x8c\\xab\\xe5\\x92\\xaa\\xe5\\x8d\\x9a\\xe7\\x89\\xa9\\xe9\\xa6\\x86\\xe3\\x80\\x8d\\xef\\xbc\\x8c\\xe6\\x9b\\xb4\\xe5\\xa4\\x9a\\xe7\\x9b\\xb8\\xe5\\x85\\xb3\\xe9\\x97\\xae\\xe9\\xa2\\x98\\xef\\xbc\\x9a\\xe4\\xbd\\xa0\\xe5\\xae\\xb6\\xe5\\xae\\xa0\\xe7\\x89\\xa9\\xe6\\x9c\\x89\\xe5\\x93\\xaa\\xe4\\xba\\x9b\\xe6\\xbf\\x80\\xe8\\x90\\x8c\\xe7\\x9a\\x84\\xe7\\x9e\\xac\\xe9\\x97\\xb4\\xef\\xbc\\x9f\\xe4\\xbd\\xa0\\xe5\\xae\\xb6\\xe5\\xae\\xa0\\xe2\\x80\\xa6\"/><meta data-react-helmet=\"true\" name=\"keywords\" content=\"\\xe7\\x8c\\xab,\\xe5\\x85\\xbb\\xe7\\x8c\\xab,\\xe5\\xae\\xa0\\xe7\\x89\\xa9,\\xe5\\xb9\\xbc\\xe7\\x8c\\xab\"/><link data-react-helmet=\"true\" rel=\"apple-touch-icon\" href=\"https://static.zhihu.com/heifetz/assets/apple-touch-icon-152.a53ae37b.png\"/><link data-react-helmet=\"true\" rel=\"'"
      ]
     },
     "execution_count": 4,
     "metadata": {},
     "output_type": "execute_result"
    }
   ],
   "source": [
    "from grab import Grab\n",
    "g = Grab()\n",
    "resp = g.go('https://www.zhihu.com/question/36435092')\n",
    "\n",
    "resp.body[:1000]"
   ]
  },
  {
   "cell_type": "code",
   "execution_count": 5,
   "metadata": {},
   "outputs": [
    {
     "name": "stdout",
     "output_type": "stream",
     "text": [
      "<class 'pyquery.pyquery.PyQuery'> 即使是睡觉也能看一整天 （づ￣3￣）づ╭❤～  今年的国际猫咪节，外网都在各种刷猫吸猫 在一片“猫海”中，Imugr一个网友发的一只猫，也是把很多人的心都俘获了 这是一只黑足猫，是地球上最小型的野生猫科动物之一 黑足猫平均重只有1.6公斤，个头真的挺小 之所以会叫黑足猫，是因为它们的脚底肉垫是黑色的 相对于它们的身体来说，它们的头部其实算比较大 野生的黑足猫主要栖息在南非干旱的半沙漠及大草原，是独居的夜行动物 通常，黑足猫是很害羞的动物，会尽量躲藏 小小的体格让它们看上去敲萌敲可爱   然而....这群小家伙的战斗力根本一点不弱... 别看它们个头不大，它们凶猛起来能攻击比它们体型大四倍的小羊 一旦被围困或是被逼至绝境，它们更是会非常凶狠地反击自卫   甚至还有传说说黑足猫能干掉一只长颈鹿.....能用它们的利牙刺穿长颈鹿的静脉....（这脑洞开得也是有点大了） 非洲一些地方的居民都相信这种传说....然而这种说法木有得到证实....应该是为了凸显黑足猫不容小觑的战斗力来夸张的~  黑足猫虽然体型小，但它们吃的可多了，一个晚上能吃掉相当于它们体重五分之一的食物（还吃不胖） 由于沙漠地带的食物比较少，所以野生黑足猫就得在夜间跋涉十多公里觅食，所以它们需要非常高的能量来生活 鼠类、小的鸟类、昆虫等都是它们的猎物  黑足猫在2011年的时候被列入了“易危动物”，一些动物机构都开始进行着长期稳定的繁殖保育行动 这么可爱的动物，一定要好好保护呀~  source： https://en.wikipedia.org/wiki/Black-footed_cat https://bigcatrescue.org/black-footed-cat-facts/ http://www.iltaw.com/animal/475\n"
     ]
    }
   ],
   "source": [
    "from pyquery import PyQuery as pq\n",
    "doc = pq(resp.body)\n",
    "content = doc('p')\n",
    "print(type(content), content.text())"
   ]
  },
  {
   "cell_type": "code",
   "execution_count": null,
   "metadata": {},
   "outputs": [],
   "source": []
  }
 ],
 "metadata": {
  "kernelspec": {
   "display_name": "Python 3",
   "language": "python",
   "name": "python3"
  },
  "language_info": {
   "codemirror_mode": {
    "name": "ipython",
    "version": 3
   },
   "file_extension": ".py",
   "mimetype": "text/x-python",
   "name": "python",
   "nbconvert_exporter": "python",
   "pygments_lexer": "ipython3",
   "version": "3.7.9"
  }
 },
 "nbformat": 4,
 "nbformat_minor": 2
}
