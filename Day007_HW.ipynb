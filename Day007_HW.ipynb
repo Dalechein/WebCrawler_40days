{
 "cells": [
  {
   "cell_type": "markdown",
   "metadata": {},
   "source": [
    "# HTTP 靜態網頁架構說明\n",
    "\n",
    "* 認識靜態網頁的溝通架構與運作原理\n",
    "* HTML、CSS、JavaScript 在網頁中扮演的角色\n",
    "* 網頁中定位資料的方法"
   ]
  },
  {
   "cell_type": "markdown",
   "metadata": {},
   "source": [
    "## 作業目標\n",
    "\n",
    "1. （簡答題）請問目前提到的這種基於 HTTP 一來一回的網頁傳輸方式，有哪些缺點及問題？\n",
    "2. （簡答題）網頁中使用的 JavaScipt 程式語言，跟我們一般使用的 Python 在執行上有什麼不同。\n"
   ]
  },
  {
   "cell_type": "markdown",
   "metadata": {},
   "source": [
    "### 1.（簡答題）請問目前提到的這種基於 HTTP 一來一回的網頁傳輸方式，有哪些缺點及問題？"
   ]
  },
  {
   "cell_type": "markdown",
   "metadata": {},
   "source": [
    "#### 1. 傳輸速度慢，資料包大。\n",
    "#### 2. 如實時互動，伺服器效能壓力大。\n",
    "#### 3. 資料傳輸安全性差。"
   ]
  },
  {
   "cell_type": "markdown",
   "metadata": {},
   "source": [
    "### 2. （簡答題）網頁中使用的 JavaScipt 程式語言，跟我們一般使用的 Python 在執行上有什麼不同。"
   ]
  },
  {
   "cell_type": "markdown",
   "metadata": {},
   "source": [
    "#### 1. 程式設計正規化\n",
    "Javascript的物件導向是基於原型（prototype）的， 物件的繼承是由原型（也是物件）建立出來的，由原型物件建立出來的物件繼承了原型鏈上的方法。\n",
    "而Python則是中規中矩的基於類（class）的繼承，並天然的支援多型（polymophine）。\n",
    "\n",
    "#### 2. 執行緒模型\n",
    "在Javascript的世界中是沒有多執行緒的概念的，併發使用過使用事件驅動的方式來進行的， 所有的JavaScript程式都執行在一個執行緒中。在HTML5中引入web worker可以併發的處理任務，但沒有改變Javascript單執行緒的限制。\n",
    "Python通過thread包支援多執行緒。\n",
    "\n",
    "#### 3. 不可改變型別\n",
    "在Python中，有的資料型別是不可改變的，也就意味著這種型別的資料不能被修改，所有的修改都會返回新的物件。\n",
    "而在Javascript中所有的資料型別都是可以改變的。\n",
    "\n",
    "#### 4. 資料型別\n",
    "Javascript的資料型別比較簡單，有object、string、boolean、number、null和undefined，總共六種。\n",
    "Python中一切均為物件，像module、function、class等等都是。Python有五個內建的簡單資料型別bool、int、long、float和complex，另外還有容器型別，程式碼型別，內部型別等等。\n",
    "\n",
    "#### 5. 布林\n",
    "Javascript有true和false。\n",
    "Python有True和False。它們除了大小寫沒有什麼區別。\n",
    "\n",
    "#### 6. 字串\n",
    "Javascript採用UTF16編碼。\n",
    "Python使用ASCII碼。需要呼叫encode、decode來進行編碼轉換。使用u作為字首可以指定字串使用Unicode編碼。\n",
    "\n",
    "#### 7. 數值\n",
    "Javascript中所有的數值型別都是實現為64位浮點數。支援NaN(Not a number)，正負無窮大（ /-Infiity）。\n",
    "Python擁有諸多的數值型別，其中的複數型別非常方便，所以在Python在科研和教育領域很受歡迎。這應該也是其中一個原因吧。Python中沒有定義NaN，除零操作會引發異常。\n",
    "\n",
    "#### 8. 列表\n",
    "Javascript內建了array型別（array也是object）。\n",
    "Python的列表（List）和Javascript的Array比較接近，而元組（Tuple）可以理解為不可改變的列表。\n",
    "\n",
    "#### 9. 字典、雜湊表、物件\n",
    "Javascript中大量的使用{}來建立物件，這些物件和字典沒有什麼區別，可以使用[]或者.來訪問物件的成員。可以動態的新增，修改和刪除成員。可以認為物件就是Javascript的字典或者雜湊表。物件的key必須是字串。\n",
    "Python內建了雜湊表（dictS），和Javascript不同的是，dictS可以有各種型別的key值。\n",
    "\n",
    "#### 10. 空值\n",
    "Javascript定義了兩種空值。 undefined表示變數沒有被初始化，null表示變數已經初始化但是值為空。\n",
    "Python中不存在未初始化的值，如果一個變數值為空，Python使用None來表示。 \n",
    "\n",
    "#### 11. 型別檢查\n",
    "Javascript可以通過typeof來獲得某個變數的型別。\n",
    "Python提供內建方法type來獲得資料的型別。"
   ]
  },
  {
   "cell_type": "code",
   "execution_count": null,
   "metadata": {},
   "outputs": [],
   "source": []
  }
 ],
 "metadata": {
  "kernelspec": {
   "display_name": "Python 3",
   "language": "python",
   "name": "python3"
  },
  "language_info": {
   "codemirror_mode": {
    "name": "ipython",
    "version": 3
   },
   "file_extension": ".py",
   "mimetype": "text/x-python",
   "name": "python",
   "nbconvert_exporter": "python",
   "pygments_lexer": "ipython3",
   "version": "3.7.9"
  }
 },
 "nbformat": 4,
 "nbformat_minor": 2
}
