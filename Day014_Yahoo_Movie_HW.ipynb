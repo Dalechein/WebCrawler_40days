{
 "cells": [
  {
   "cell_type": "markdown",
   "metadata": {},
   "source": [
    "# YAHOO電影爬蟲練習\n",
    "## 練習爬取電影放映資訊。必須逐步獲取電影的代號、放映地區、放映日期後，再送出查詢給伺服器。"
   ]
  },
  {
   "cell_type": "code",
   "execution_count": 1,
   "metadata": {},
   "outputs": [],
   "source": [
    "import requests\n",
    "import re\n",
    "from bs4 import BeautifulSoup"
   ]
  },
  {
   "cell_type": "markdown",
   "metadata": {},
   "source": [
    "### 先搜尋全部的電影代號(ID)資訊"
   ]
  },
  {
   "cell_type": "code",
   "execution_count": 2,
   "metadata": {},
   "outputs": [
    {
     "name": "stdout",
     "output_type": "stream",
     "text": [
      "Movie: 鬼影, ID: 11224\n",
      "Movie: 鬼鄰居, ID: 11194\n",
      "Movie: 溫蒂, ID: 11189\n",
      "Movie: 偷天行動, ID: 11187\n",
      "Movie: 男兒王, ID: 11186\n",
      "Movie: 跟你老婆去旅行, ID: 11183\n",
      "Movie: STAND BY ME 哆啦A夢2, ID: 11179\n",
      "Movie: 我沒有談的那場戀愛, ID: 11159\n",
      "Movie: 銀龍出任務, ID: 11156\n",
      "Movie: 金不厭詐, ID: 11090\n",
      "Movie: 湯姆貓與傑利鼠, ID: 11072\n",
      "Movie: 愛不可失, ID: 11190\n",
      "Movie: 角頭–浪流連, ID: 11162\n",
      "Movie: 諾亞方舟大冒險, ID: 11155\n",
      "Movie: 我啊，走自己的路, ID: 11088\n",
      "Movie: T-34：玩命坦克, ID: 11178\n",
      "Movie: 天空鯊：納粹終極武器, ID: 11111\n",
      "Movie: 無邪, ID: 11168\n",
      "Movie: 騙騙愛上你, ID: 11165\n",
      "Movie: 龍貓, ID: 11163\n",
      "Movie: 養鬼人, ID: 11149\n",
      "Movie: 緝魂, ID: 11113\n",
      "Movie: 海豚總動員, ID: 11068\n",
      "Movie: 細物警探, ID: 11161\n",
      "Movie: 午夜密令, ID: 11150\n",
      "Movie: 天若有情, ID: 11157\n",
      "Movie: 愛的亡靈, ID: 11120\n",
      "Movie: 哭悲, ID: 11115\n",
      "Movie: 劇場版超人力霸王大河—新世代終結黑暗, ID: 11091\n",
      "Movie: 想見你的愛, ID: 11064\n",
      "Movie: 《屁屁偵探：咖哩香料事件》＋《屁屁偵探：瓢蟲遺蹟之謎》, ID: 11174\n",
      "Movie: 捍衛救援, ID: 11153\n",
      "Movie: 喬瑟與虎與魚群動畫版, ID: 11127\n",
      "Movie: 約定的夢幻島, ID: 11122\n",
      "Movie: 叱咤風雲, ID: 11181\n",
      "Movie: 馬德里金庫盜數90分鐘, ID: 11184\n",
      "Movie: 偷畫男孩, ID: 11172\n",
      "Movie: 千年女優4K數位修復版, ID: 11062\n",
      "Movie: 俘虜, ID: 11146\n",
      "Movie: 聖誕殺戮日, ID: 11067\n",
      "Movie: 空中謎航, ID: 11152\n",
      "Movie: 拆彈專家2, ID: 10986\n",
      "Movie: 杏林醫院, ID: 10781\n",
      "Movie: 靈魂急轉彎, ID: 11089\n",
      "Movie: 真愛鄰距離, ID: 11101\n",
      "Movie: 高校棋蹟, ID: 11099\n",
      "Movie: 信用詐欺師JP：公主篇, ID: 11021\n",
      "Movie: 求婚好意外, ID: 10796\n",
      "Movie: 愛在黎明破曉時, ID: 11053\n",
      "Movie: 熱血合唱團, ID: 11044\n",
      "Movie: 親愛的殺手, ID: 10861\n",
      "Movie: 古魯家族：新石代, ID: 10958\n",
      "Movie: 盜墓同盟, ID: 11031\n",
      "Movie: 婊兄弟上路, ID: 11003\n",
      "Movie: 消失的星期三, ID: 10949\n",
      "Movie: 弒膽遊戲, ID: 10988\n",
      "Movie: 換人殺砍砍, ID: 10933\n",
      "Movie: 愛麗絲與夢幻島, ID: 11018\n",
      "Movie: 孤味, ID: 10477\n",
      "Movie: 女巫們, ID: 10976\n",
      "Movie: 鬼滅之刃劇場版 無限列車篇, ID: 10816\n",
      "Movie: 親愛的房客, ID: 10707\n",
      "Movie: 無聲, ID: 10926\n",
      "Movie: 倒數反擊, ID: 10906\n",
      "Movie: 刻在你心底的名字, ID: 10902\n",
      "Movie: 消失的情人節, ID: 10870\n",
      "Movie: 花木蘭, ID: 8632\n",
      "Movie: TENET天能, ID: 10433\n",
      "Movie: 巴亞拉魔幻冒險, ID: 10851\n",
      "Movie: 角落小夥伴電影版：魔法繪本裡的新朋友, ID: 10647\n",
      "Movie: 破處, ID: 10641\n",
      "Movie: 紅鞋公主與七矮人, ID: 10417\n",
      "Movie: 1917, ID: 10189\n",
      "Movie: 仙戒奇緣, ID: 10211\n",
      "Movie: 一首搖滾上月球, ID: 4887\n",
      "Movie: 錢不夠用2, ID: 3026\n"
     ]
    }
   ],
   "source": [
    "# 查看目前上映那些電影，並擷取出其ID資訊\n",
    "url = 'https://movies.yahoo.com.tw/'\n",
    "resp = requests.get(url)\n",
    "resp.encoding = 'utf-8'\n",
    "\n",
    "soup = BeautifulSoup(resp.text, 'lxml')\n",
    "html = soup.find(\"select\", attrs={'name':'movie_id'})\n",
    "movie_item = html.find_all(\"option\", attrs={'data-name':re.compile('.*')})\n",
    "\n",
    "for p in movie_item:\n",
    "    print(\"Movie: %s, ID: %s\" % (p[\"data-name\"], p[\"value\"]))"
   ]
  },
  {
   "cell_type": "markdown",
   "metadata": {},
   "source": [
    "### 指定你有興趣的電影其ID，然後查詢其放映地區資訊。"
   ]
  },
  {
   "cell_type": "code",
   "execution_count": 3,
   "metadata": {},
   "outputs": [],
   "source": [
    "# 參考前一個步驟中擷取到的ID資訊，並指定ID\n",
    "movie_id = 11072"
   ]
  },
  {
   "cell_type": "code",
   "execution_count": 4,
   "metadata": {},
   "outputs": [
    {
     "name": "stdout",
     "output_type": "stream",
     "text": [
      "放映地區: 台北市, 代號(area_id): 28\n",
      "放映地區: 新北市, 代號(area_id): 8\n",
      "放映地區: 桃園, 代號(area_id): 16\n",
      "放映地區: 新竹, 代號(area_id): 20\n",
      "放映地區: 苗栗, 代號(area_id): 15\n",
      "放映地區: 台中, 代號(area_id): 2\n",
      "放映地區: 彰化, 代號(area_id): 22\n",
      "放映地區: 南投, 代號(area_id): 13\n",
      "放映地區: 雲林, 代號(area_id): 19\n",
      "放映地區: 嘉義, 代號(area_id): 21\n",
      "放映地區: 台南, 代號(area_id): 10\n",
      "放映地區: 高雄, 代號(area_id): 17\n",
      "放映地區: 屏東, 代號(area_id): 14\n",
      "放映地區: 基隆, 代號(area_id): 18\n",
      "放映地區: 宜蘭, 代號(area_id): 11\n",
      "放映地區: 花蓮, 代號(area_id): 12\n",
      "放映地區: 台東, 代號(area_id): 9\n",
      "放映地區: 金門, 代號(area_id): 24\n",
      "放映地區: 澎湖, 代號(area_id): 23\n"
     ]
    }
   ],
   "source": [
    "url = 'https://movies.yahoo.com.tw/api/v1/areas_by_movie_theater'\n",
    "payload = {'movie_id':str(movie_id)}\n",
    "\n",
    "# 模擬一個header\n",
    "\n",
    "headers = {\n",
    "    'Accept': 'application/json, text/javascript, */*; q=0.01',\n",
    "    'Accept-Encoding': 'gzip, deflate, br',\n",
    "    'Accept-Language': 'en-US,en;q=0.5',\n",
    "    'Connection': 'keep-alive',\n",
    "    'Cookie': 'rxx=eb5nne44qnk.28d2v3yw&v=1; _ga=GA1.4.2074421197.1613320659; _gid=GA1.4.137223686.1613320659; cmp=t=1613320659&j=0; __gads=ID=3c3b01aa2697fc0e-226c739d06c60026:T=1613320660:RT=1613320660:S=ALNI_MYnbkbVr_sJ2jyFGEDFjHUdfAMmhg; _gat=1; avi=eyJpdiI6IklNMTFKQlk4MUMxY3V0QU9cLzkyZjNnPT0iLCJ2YWx1ZSI6IlZET0JKSUtkMERpZDNEUlJ5cW03QmI5VFNMTmkzUTVOdU1IYmVTZDd4VEtGV2ZpVGl4XC93ZTJ6bkJLR1ZFMEIrIiwibWFjIjoiN2I2MDIxNDk0MDNjNjBhM2FhMzBkYmRiODM1ZjU1YjFkOTQ0MWYyNWMzZWIxM2NhYzU5YzYwMGIzMWFmZjFkOCJ9',\n",
    "    'Host': 'movies.yahoo.com.tw',\n",
    "    'MV-Authorization': '21835b082e15b91a69b3851eec7b31b82ce82afb',\n",
    "    'Referer': 'https://movies.yahoo.com.tw/',\n",
    "    'TE': 'Trailers',\n",
    "    'User-Agent': 'Mozilla/5.0 (Windows NT 10.0; Win64; x64; rv:86.0) Gecko/20100101 Firefox/86.0',\n",
    "    'X-Requested-With': 'XMLHttpRequest'\n",
    "}\n",
    "\n",
    "resp = requests.get(url, params=payload, headers=headers)\n",
    "#print(resp.json())  # 若有需要，列印出json原始碼\n",
    "#print(resp)  # 若有需要，列印出json原始碼\n",
    "# 這裡回傳的格式是JSON格式的資料，要解析JSON擷取資料\n",
    "for p in resp.json():\n",
    "    print('放映地區: {0}, 代號(area_id): {1}'.format(p['title'], p['area_id']))"
   ]
  },
  {
   "cell_type": "markdown",
   "metadata": {},
   "source": [
    "### 指定你想要觀看的放映地區，查詢有上映電影的場次日期"
   ]
  },
  {
   "cell_type": "code",
   "execution_count": 5,
   "metadata": {},
   "outputs": [],
   "source": [
    "# 指定放映地區\n",
    "area_id = 28"
   ]
  },
  {
   "cell_type": "code",
   "execution_count": 6,
   "metadata": {},
   "outputs": [
    {
     "name": "stdout",
     "output_type": "stream",
     "text": [
      "二月 15\n",
      "二月 16\n",
      "二月 17\n",
      "二月 18\n",
      "二月 19\n"
     ]
    }
   ],
   "source": [
    "# 向網站發送請求\n",
    "url = 'https://movies.yahoo.com.tw/movietime_result.html'\n",
    "payload = {'movie_id':str(movie_id), 'area_id':str(area_id)}\n",
    "resp = requests.get(url, params=payload)\n",
    "resp.encoding = 'utf-8'\n",
    "\n",
    "soup = BeautifulSoup(resp.text, 'lxml')\n",
    "movie_date = soup.find_all(\"label\", attrs={'for':re.compile(\"date_[\\d]\")})\n",
    "\n",
    "# 列印播放日期\n",
    "for date in movie_date:\n",
    "    print(\"%s %s\" % (date.p.string, date.h3.string))"
   ]
  },
  {
   "cell_type": "markdown",
   "metadata": {},
   "source": [
    "### 最後指定觀看的日期，查詢並列印出放映的電影院、放映類型(數位、3D、IMAX 3D...)、放映時間等資訊。"
   ]
  },
  {
   "cell_type": "code",
   "execution_count": 7,
   "metadata": {},
   "outputs": [],
   "source": [
    "# 向網站發送請求，獲取上映的電影院及時間資訊\n",
    "url = \"https://movies.yahoo.com.tw/ajax/pc/get_schedule_by_movie\"\n",
    "\n",
    "# 選定要觀看的日期\n",
    "payload = {'movie_id':str(11072),'date':\"2021-02-17\",'area_id':str(28),'theater_id':'','datetime':'','movie_type_id':''}\n",
    "#payload = {'movie_id':movie_id,'date':date,'area_id':area_id,'theater_id':'','datetime':'','movie_type_id':''}\n",
    "\n",
    "resp = requests.get(url, params=payload)\n",
    "resp.encoding = 'utf-8'\n",
    "#print(resp.json()['view'])  # 若有需要，列印出json原始碼\n",
    "\n",
    "soup = BeautifulSoup(resp.json()['view'], 'lxml')\n",
    "html = soup.find_all(\"ul\", attrs={'data-theater_name':re.compile(\".*\")})"
   ]
  },
  {
   "cell_type": "code",
   "execution_count": 8,
   "metadata": {},
   "outputs": [
    {
     "name": "stdout",
     "output_type": "stream",
     "text": [
      "電影院 台北美麗華大直影城\n",
      "放映類型： 數位\n",
      "2021-02-17 09:40:00\n",
      "2021-02-17 13:40:00\n",
      "2021-02-17 11:40:00\n",
      "2021-02-17 15:40:00\n",
      "2021-02-17 19:30:00\n",
      "2021-02-17 21:30:00\n",
      "2021-02-17 23:35:00\n",
      "電影院 台北in89豪華數位影城\n",
      "放映類型： 數位\n",
      "2021-02-17 09:40:00\n",
      "2021-02-17 13:40:00\n",
      "2021-02-17 17:40:00\n",
      "2021-02-17 11:40:00\n",
      "2021-02-17 15:40:00\n",
      "2021-02-17 19:40:00\n",
      "2021-02-17 21:40:00\n",
      "電影院 喜滿客絕色影城\n",
      "放映類型： 數位\n",
      "2021-02-17 10:40:00\n",
      "2021-02-17 14:50:00\n",
      "2021-02-17 18:40:00\n",
      "2021-02-17 20:40:00\n",
      "2021-02-17 12:40:00\n",
      "2021-02-17 16:40:00\n",
      "電影院 台北信義威秀影城\n",
      "放映類型： 數位\n",
      "2021-02-17 09:15:00\n",
      "2021-02-17 11:15:00\n",
      "2021-02-17 13:15:00\n",
      "2021-02-17 15:15:00\n",
      "2021-02-17 17:15:00\n",
      "2021-02-17 19:15:00\n",
      "2021-02-17 20:15:00\n",
      "2021-02-17 21:15:00\n",
      "2021-02-17 23:15:00\n",
      "2021-02-18 01:15:00\n",
      "2021-02-17 10:15:00\n",
      "2021-02-17 12:15:00\n",
      "2021-02-17 14:15:00\n",
      "2021-02-17 16:15:00\n",
      "2021-02-17 18:15:00\n",
      "電影院 京站威秀影城\n",
      "放映類型： 數位\n",
      "2021-02-17 09:45:00\n",
      "2021-02-17 13:40:00\n",
      "2021-02-17 11:40:00\n",
      "2021-02-17 15:35:00\n",
      "2021-02-17 17:35:00\n",
      "2021-02-17 19:35:00\n",
      "2021-02-17 22:35:00\n",
      "電影院 MUVIE CINEMAS台北松仁威秀\n",
      "放映類型： 數位\n",
      "2021-02-17 09:25:00\n",
      "2021-02-17 13:10:00\n",
      "2021-02-17 15:20:00\n",
      "2021-02-17 17:15:00\n",
      "2021-02-17 19:15:00\n",
      "2021-02-17 21:15:00\n"
     ]
    }
   ],
   "source": [
    "for p in html:\n",
    "    print(\"電影院\", p.find(\"li\").a.string)\n",
    "    print(\"放映類型：\", p.find(class_=\"tapR\").text)\n",
    "    movie_time = p.find_all('input', class_=\"gabtn\") \n",
    "    for time in movie_time:\n",
    "        print(time['value'])"
   ]
  },
  {
   "cell_type": "code",
   "execution_count": null,
   "metadata": {},
   "outputs": [],
   "source": []
  }
 ],
 "metadata": {
  "kernelspec": {
   "display_name": "Python 3",
   "language": "python",
   "name": "python3"
  },
  "language_info": {
   "codemirror_mode": {
    "name": "ipython",
    "version": 3
   },
   "file_extension": ".py",
   "mimetype": "text/x-python",
   "name": "python",
   "nbconvert_exporter": "python",
   "pygments_lexer": "ipython3",
   "version": "3.7.9"
  }
 },
 "nbformat": 4,
 "nbformat_minor": 2
}
